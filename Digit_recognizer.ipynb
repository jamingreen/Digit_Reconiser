{
 "cells": [
  {
   "cell_type": "markdown",
   "metadata": {},
   "source": [
    "# Digit Recognizer"
   ]
  },
  {
   "cell_type": "code",
   "execution_count": 2,
   "metadata": {},
   "outputs": [],
   "source": [
    "import tensorflow as tf\n",
    "import numpy as np\n",
    "import os"
   ]
  },
  {
   "cell_type": "code",
   "execution_count": 9,
   "metadata": {},
   "outputs": [
    {
     "name": "stdout",
     "output_type": "stream",
     "text": [
      "(42000, 785)\n"
     ]
    }
   ],
   "source": [
    "import csv\n",
    "from pandas import read_csv\n",
    "\n",
    "train_file = os.path.join(\"dataset\", \"train.csv\")\n",
    "\n",
    "labels = []\n",
    "imgs = np.array([])\n",
    "\n",
    "with open(train_file) as f:\n",
    "    df = read_csv(f)"
   ]
  },
  {
   "cell_type": "code",
   "execution_count": 10,
   "metadata": {},
   "outputs": [],
   "source": [
    "labels = df.iloc[:, 0]\n",
    "\n",
    "imgs = df.iloc[:, 1:]\n",
    "\n",
    "imgs = np.array(imgs)"
   ]
  },
  {
   "cell_type": "code",
   "execution_count": 12,
   "metadata": {},
   "outputs": [
    {
     "name": "stdout",
     "output_type": "stream",
     "text": [
      "(42000, 28, 28, 1)\n"
     ]
    }
   ],
   "source": [
    "imgs = imgs.reshape(imgs.shape[0], 28,28,1)\n",
    "print(imgs.shape)"
   ]
  },
  {
   "cell_type": "code",
   "execution_count": 26,
   "metadata": {},
   "outputs": [
    {
     "name": "stdout",
     "output_type": "stream",
     "text": [
      "Model: \"sequential_2\"\n",
      "_________________________________________________________________\n",
      " Layer (type)                Output Shape              Param #   \n",
      "=================================================================\n",
      " conv2d_4 (Conv2D)           (None, 26, 26, 32)        320       \n",
      "                                                                 \n",
      " max_pooling2d_4 (MaxPooling  (None, 13, 13, 32)       0         \n",
      " 2D)                                                             \n",
      "                                                                 \n",
      " conv2d_5 (Conv2D)           (None, 11, 11, 16)        4624      \n",
      "                                                                 \n",
      " max_pooling2d_5 (MaxPooling  (None, 5, 5, 16)         0         \n",
      " 2D)                                                             \n",
      "                                                                 \n",
      " flatten_2 (Flatten)         (None, 400)               0         \n",
      "                                                                 \n",
      " dense_4 (Dense)             (None, 16)                6416      \n",
      "                                                                 \n",
      " dense_5 (Dense)             (None, 10)                170       \n",
      "                                                                 \n",
      "=================================================================\n",
      "Total params: 11,530\n",
      "Trainable params: 11,530\n",
      "Non-trainable params: 0\n",
      "_________________________________________________________________\n"
     ]
    }
   ],
   "source": [
    "model = tf.keras.Sequential([\n",
    "    tf.keras.layers.Conv2D(32, (3,3), activation = \"relu\", input_shape = (28,28,1)),\n",
    "    tf.keras.layers.MaxPool2D(2,2),\n",
    "    \n",
    "    tf.keras.layers.Conv2D(16, (3,3), activation = \"relu\"),\n",
    "    tf.keras.layers.MaxPool2D(2,2),\n",
    "    \n",
    "    tf.keras.layers.Flatten(),\n",
    "    \n",
    "    tf.keras.layers.Dense(16, activation = \"relu\"),\n",
    "    tf.keras.layers.Dense(10, activation='softmax')\n",
    "])\n",
    "\n",
    "model.summary()\n",
    "\n",
    "model.compile(loss = 'sparse_categorical_crossentropy', optimizer=tf.keras.optimizers.RMSprop(learning_rate=0.0005), metrics=['accuracy'])"
   ]
  },
  {
   "cell_type": "code",
   "execution_count": 18,
   "metadata": {},
   "outputs": [],
   "source": [
    "class myCallback(tf.keras.callbacks.Callback):\n",
    "  def on_epoch_end(self, epoch, logs={}):\n",
    "    if(logs.get('accuracy') >= 0.995): # Experiment with changing this value\n",
    "      print(\"\\nReached 99.9% accuracy so cancelling training!\")\n",
    "      self.model.stop_training = True"
   ]
  },
  {
   "cell_type": "code",
   "execution_count": 27,
   "metadata": {},
   "outputs": [
    {
     "name": "stdout",
     "output_type": "stream",
     "text": [
      "Epoch 1/50\n",
      "1313/1313 [==============================] - 21s 15ms/step - loss: 0.9360 - accuracy: 0.7630\n",
      "Epoch 2/50\n",
      "1313/1313 [==============================] - 21s 16ms/step - loss: 0.1863 - accuracy: 0.9521\n",
      "Epoch 3/50\n",
      "1313/1313 [==============================] - 23s 17ms/step - loss: 0.1173 - accuracy: 0.9690\n",
      "Epoch 4/50\n",
      "1313/1313 [==============================] - 32s 24ms/step - loss: 0.0866 - accuracy: 0.9764\n",
      "Epoch 5/50\n",
      "1313/1313 [==============================] - 27s 21ms/step - loss: 0.0718 - accuracy: 0.9801\n",
      "Epoch 6/50\n",
      "1313/1313 [==============================] - 28s 21ms/step - loss: 0.0604 - accuracy: 0.9828\n",
      "Epoch 7/50\n",
      "1313/1313 [==============================] - 27s 20ms/step - loss: 0.0534 - accuracy: 0.9842\n",
      "Epoch 8/50\n",
      "1313/1313 [==============================] - 30s 23ms/step - loss: 0.0493 - accuracy: 0.9862\n",
      "Epoch 9/50\n",
      "1313/1313 [==============================] - 26s 20ms/step - loss: 0.0441 - accuracy: 0.9873\n",
      "Epoch 10/50\n",
      "1313/1313 [==============================] - 26s 20ms/step - loss: 0.0399 - accuracy: 0.9889\n",
      "Epoch 11/50\n",
      "1313/1313 [==============================] - 28s 21ms/step - loss: 0.0377 - accuracy: 0.9896\n",
      "Epoch 12/50\n",
      "1313/1313 [==============================] - 27s 21ms/step - loss: 0.0359 - accuracy: 0.9902\n",
      "Epoch 13/50\n",
      "1313/1313 [==============================] - 26s 20ms/step - loss: 0.0335 - accuracy: 0.9905\n",
      "Epoch 14/50\n",
      "1313/1313 [==============================] - 26s 20ms/step - loss: 0.0314 - accuracy: 0.9912\n",
      "Epoch 15/50\n",
      "1313/1313 [==============================] - 33s 25ms/step - loss: 0.0317 - accuracy: 0.9910\n",
      "Epoch 16/50\n",
      "1313/1313 [==============================] - 36s 28ms/step - loss: 0.0296 - accuracy: 0.9919\n",
      "Epoch 17/50\n",
      "1313/1313 [==============================] - 26s 20ms/step - loss: 0.0277 - accuracy: 0.9924\n",
      "Epoch 18/50\n",
      "1313/1313 [==============================] - 27s 21ms/step - loss: 0.0272 - accuracy: 0.9930\n",
      "Epoch 19/50\n",
      "1313/1313 [==============================] - 27s 21ms/step - loss: 0.0253 - accuracy: 0.9931\n",
      "Epoch 20/50\n",
      "1313/1313 [==============================] - 26s 20ms/step - loss: 0.0239 - accuracy: 0.9932\n",
      "Epoch 21/50\n",
      "1313/1313 [==============================] - 26s 19ms/step - loss: 0.0246 - accuracy: 0.9935\n",
      "Epoch 22/50\n",
      "1313/1313 [==============================] - 26s 20ms/step - loss: 0.0232 - accuracy: 0.9940\n",
      "Epoch 23/50\n",
      "1313/1313 [==============================] - 26s 19ms/step - loss: 0.0238 - accuracy: 0.9942\n",
      "Epoch 24/50\n",
      "1313/1313 [==============================] - 25s 19ms/step - loss: 0.0223 - accuracy: 0.9949\n",
      "Epoch 25/50\n",
      "1313/1313 [==============================] - 26s 19ms/step - loss: 0.0211 - accuracy: 0.9944\n",
      "Epoch 26/50\n",
      "1313/1313 [==============================] - 28s 21ms/step - loss: 0.0201 - accuracy: 0.9948\n",
      "Epoch 27/50\n",
      "1313/1313 [==============================] - 29s 22ms/step - loss: 0.0179 - accuracy: 0.9955\n",
      "Epoch 28/50\n",
      "1313/1313 [==============================] - 30s 23ms/step - loss: 0.0209 - accuracy: 0.9953\n",
      "Epoch 29/50\n",
      "1313/1313 [==============================] - 26s 20ms/step - loss: 0.0187 - accuracy: 0.9956\n",
      "Epoch 30/50\n",
      "1313/1313 [==============================] - 27s 21ms/step - loss: 0.0180 - accuracy: 0.9957\n",
      "Epoch 31/50\n",
      "1313/1313 [==============================] - 34s 26ms/step - loss: 0.0178 - accuracy: 0.9957\n",
      "Epoch 32/50\n",
      "1313/1313 [==============================] - 29s 22ms/step - loss: 0.0205 - accuracy: 0.9956\n",
      "Epoch 33/50\n",
      "1313/1313 [==============================] - 28s 22ms/step - loss: 0.0170 - accuracy: 0.9957\n",
      "Epoch 34/50\n",
      "1313/1313 [==============================] - 30s 23ms/step - loss: 0.0179 - accuracy: 0.9960\n",
      "Epoch 35/50\n",
      "1313/1313 [==============================] - 29s 22ms/step - loss: 0.0155 - accuracy: 0.9963\n",
      "Epoch 36/50\n",
      "1313/1313 [==============================] - 28s 21ms/step - loss: 0.0197 - accuracy: 0.9957\n",
      "Epoch 37/50\n",
      "1313/1313 [==============================] - 29s 22ms/step - loss: 0.0186 - accuracy: 0.9959\n",
      "Epoch 38/50\n",
      "1313/1313 [==============================] - 27s 20ms/step - loss: 0.0196 - accuracy: 0.9956\n",
      "Epoch 39/50\n",
      "1313/1313 [==============================] - 26s 19ms/step - loss: 0.0179 - accuracy: 0.9963\n",
      "Epoch 40/50\n",
      "1313/1313 [==============================] - 27s 20ms/step - loss: 0.0173 - accuracy: 0.9959\n",
      "Epoch 41/50\n",
      "1313/1313 [==============================] - 26s 20ms/step - loss: 0.0159 - accuracy: 0.9964\n",
      "Epoch 42/50\n",
      "1313/1313 [==============================] - 28s 21ms/step - loss: 0.0159 - accuracy: 0.9968\n",
      "Epoch 43/50\n",
      "1313/1313 [==============================] - 34s 26ms/step - loss: 0.0184 - accuracy: 0.9965\n",
      "Epoch 44/50\n",
      "1313/1313 [==============================] - 35s 27ms/step - loss: 0.0167 - accuracy: 0.9969\n",
      "Epoch 45/50\n",
      "1313/1313 [==============================] - 26s 20ms/step - loss: 0.0160 - accuracy: 0.9965\n",
      "Epoch 46/50\n",
      "1313/1313 [==============================] - 26s 20ms/step - loss: 0.0142 - accuracy: 0.9971\n",
      "Epoch 47/50\n",
      "1313/1313 [==============================] - 26s 20ms/step - loss: 0.0140 - accuracy: 0.9972\n",
      "Epoch 48/50\n",
      "1313/1313 [==============================] - 26s 20ms/step - loss: 0.0143 - accuracy: 0.9971\n",
      "Epoch 49/50\n",
      "1313/1313 [==============================] - 27s 20ms/step - loss: 0.0144 - accuracy: 0.9971\n",
      "Epoch 50/50\n",
      "1313/1313 [==============================] - 26s 20ms/step - loss: 0.0141 - accuracy: 0.9970\n"
     ]
    }
   ],
   "source": [
    "mycallback = myCallback()\n",
    "\n",
    "history = model.fit(imgs, labels, epochs = 50, callbacks=[mycallback])"
   ]
  },
  {
   "cell_type": "code",
   "execution_count": 30,
   "metadata": {},
   "outputs": [],
   "source": [
    "with open(os.path.join(\"dataset\", \"test.csv\")) as f:\n",
    "    test = read_csv(f)\n",
    "    \n",
    "test = np.array(test)\n",
    "test = test.reshape(test.shape[0], 28,28,1)"
   ]
  },
  {
   "cell_type": "code",
   "execution_count": 31,
   "metadata": {},
   "outputs": [
    {
     "name": "stdout",
     "output_type": "stream",
     "text": [
      "875/875 [==============================] - 4s 5ms/step\n"
     ]
    }
   ],
   "source": [
    "result = model.predict(test)"
   ]
  },
  {
   "cell_type": "code",
   "execution_count": 46,
   "metadata": {},
   "outputs": [],
   "source": [
    "import pickle\n"
   ]
  },
  {
   "cell_type": "code",
   "execution_count": 50,
   "metadata": {},
   "outputs": [],
   "source": [
    "with open(\"model.pkl\", \"wb\") as file:\n",
    "    pickle.dump(history.history, file)"
   ]
  },
  {
   "cell_type": "code",
   "execution_count": 35,
   "metadata": {},
   "outputs": [],
   "source": [
    "result = np.array(result)\n",
    "temp = np.argmax(result, axis=1)"
   ]
  },
  {
   "cell_type": "code",
   "execution_count": 39,
   "metadata": {},
   "outputs": [],
   "source": [
    "with open(\"out.csv\", \"w\", newline='') as out:\n",
    "    writer = csv.writer(out)\n",
    "    writer.writerow([\"ImageId\", \"Label\"])\n",
    "    \n",
    "    for i, lab in enumerate(temp):\n",
    "        writer.writerow([i+1, lab])"
   ]
  },
  {
   "cell_type": "code",
   "execution_count": 40,
   "metadata": {},
   "outputs": [
    {
     "name": "stdout",
     "output_type": "stream",
     "text": [
      "{'loss': [0.9359662532806396, 0.1862781047821045, 0.11729923635721207, 0.08655934035778046, 0.07178862392902374, 0.06035059690475464, 0.053399186581373215, 0.04927007853984833, 0.04407511278986931, 0.03990244120359421, 0.03771742805838585, 0.03591956943273544, 0.03346418961882591, 0.03136548399925232, 0.031745076179504395, 0.02955825999379158, 0.02769334428012371, 0.027225088328123093, 0.025332078337669373, 0.023866230621933937, 0.024590134620666504, 0.02315717376768589, 0.023795420303940773, 0.022331004962325096, 0.021067200228571892, 0.020132936537265778, 0.017905671149492264, 0.020875144749879837, 0.018676141276955605, 0.01803932711482048, 0.017804980278015137, 0.020507676526904106, 0.017009329050779343, 0.017924677580595016, 0.015499400906264782, 0.019658014178276062, 0.01861744374036789, 0.019591188058257103, 0.01786714605987072, 0.017316076904535294, 0.015906840562820435, 0.015948623418807983, 0.018444422632455826, 0.016656743362545967, 0.015970980748534203, 0.014232725836336613, 0.014041086658835411, 0.014302835799753666, 0.014371724799275398, 0.014055985026061535], 'accuracy': [0.7629761695861816, 0.9521190524101257, 0.9689761996269226, 0.9763809442520142, 0.9801190495491028, 0.982785701751709, 0.9842143058776855, 0.9861666560173035, 0.9872618913650513, 0.9888809323310852, 0.9895714521408081, 0.9901666641235352, 0.9904999732971191, 0.991190493106842, 0.9909523725509644, 0.9919047355651855, 0.9924047589302063, 0.9929999709129333, 0.9931190609931946, 0.9931666851043701, 0.9935238361358643, 0.9940476417541504, 0.9942380785942078, 0.9949285984039307, 0.9944047331809998, 0.9948333501815796, 0.9954524040222168, 0.9953095316886902, 0.9956190586090088, 0.9957380890846252, 0.9957143068313599, 0.9956428408622742, 0.9957380890846252, 0.9960238337516785, 0.9963333606719971, 0.9957380890846252, 0.9959047436714172, 0.9955714344978333, 0.9962857365608215, 0.9959285855293274, 0.9963571429252625, 0.996833324432373, 0.9965476393699646, 0.9968809485435486, 0.9964523911476135, 0.9971428513526917, 0.9971904754638672, 0.9971428513526917, 0.9970952272415161, 0.9969523549079895]}\n"
     ]
    }
   ],
   "source": []
  },
  {
   "cell_type": "code",
   "execution_count": 45,
   "metadata": {},
   "outputs": [
    {
     "data": {
      "text/plain": [
       "[<matplotlib.lines.Line2D at 0x2d301a680d0>]"
      ]
     },
     "execution_count": 45,
     "metadata": {},
     "output_type": "execute_result"
    },
    {
     "data": {
      "image/png": "[encoded data removed]",
      "text/plain": [
       "<Figure size 432x288 with 1 Axes>"
      ]
     },
     "metadata": {
      "needs_background": "light"
     },
     "output_type": "display_data"
    }
   ],
   "source": [
    "import matplotlib.pyplot as plt\n",
    "\n",
    "plt.semilogx(list(range(50)), history.history[\"accuracy\"])\n",
    "plt.axis([0,50, 0.95, 1])"
   ]
  }
 ],
 "metadata": {
  "kernelspec": {
   "display_name": "Python 3.9.6 64-bit",
   "language": "python",
   "name": "python3"
  },
  "language_info": {
   "codemirror_mode": {
    "name": "ipython",
    "version": 3
   },
   "file_extension": ".py",
   "mimetype": "text/x-python",
   "name": "python",
   "nbconvert_exporter": "python",
   "pygments_lexer": "ipython3",
   "version": "3.9.6"
  },
  "orig_nbformat": 4,
  "vscode": {
   "interpreter": {
    "hash": "e2d3e01352cecd75c995ae1927de1a7a928cf4eb546aadb32bfc62dd0979dfb8"
   }
  }
 },
 "nbformat": 4,
 "nbformat_minor": 2
}
